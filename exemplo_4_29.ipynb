{
 "cells": [
  {
   "cell_type": "markdown",
   "metadata": {},
   "source": [
    "# Análise de Dados Experimentais - Vol 1\n",
    "\n",
    "## Fundamentos de Estatística e Estimação de Parâmetros\n",
    "\n",
    "### Márcio Schwaab e José Carlos Pinto\n",
    "\n",
    "### Cap 4: Estimação de Parâmetros\n",
    "\n",
    "#### Exemplos e exercícios\n",
    "\n",
    "[afrjr.weebly.com](afrjr.weebly.com)"
   ]
  },
  {
   "cell_type": "code",
   "execution_count": 26,
   "metadata": {},
   "outputs": [],
   "source": [
    "import numpy as np\n",
    "import matplotlib.pyplot as plt\n",
    "import scipy.stats\n",
    "\n",
    "colorcycle = plt.rcParams['axes.prop_cycle'].by_key()['color']"
   ]
  },
  {
   "cell_type": "markdown",
   "metadata": {},
   "source": [
    "### Exemplo 4.29"
   ]
  },
  {
   "cell_type": "code",
   "execution_count": 9,
   "metadata": {},
   "outputs": [
    {
     "name": "stdout",
     "output_type": "stream",
     "text": [
      "0.9542857142857147\n",
      "0.11428571428571328\n"
     ]
    }
   ],
   "source": [
    "x_e = np.arange(6)\n",
    "y_e = np.array([.1, .9, 2.2, 3.1, 3.9, 4.8])\n",
    "\n",
    "n = 6\n",
    "\n",
    "sum_x_e = np.sum(x_e)\n",
    "sum_y_e = np.sum(y_e)\n",
    "\n",
    "sum_x_e_2 = np.sum(x_e**2)\n",
    "sum_x_e_y_e = np.sum(x_e*y_e)\n",
    "\n",
    "alpha = (n*sum_x_e_y_e-sum_y_e*sum_x_e)/(n*sum_x_e_2-sum_y_e*sum_x_e)\n",
    "beta = (sum_x_e-alpha*sum_y_e)/n\n",
    "\n",
    "print(alpha)\n",
    "print(beta)"
   ]
  },
  {
   "cell_type": "code",
   "execution_count": 10,
   "metadata": {},
   "outputs": [
    {
     "data": {
      "text/plain": [
       "array([0.11428571, 1.06857143, 2.02285714, 2.97714286, 3.93142857,\n",
       "       4.88571429])"
      ]
     },
     "execution_count": 10,
     "metadata": {},
     "output_type": "execute_result"
    }
   ],
   "source": [
    "y_m = alpha*x_e+beta\n",
    "y_m"
   ]
  },
  {
   "cell_type": "code",
   "execution_count": 11,
   "metadata": {},
   "outputs": [
    {
     "data": {
      "text/plain": [
       "0.020857142857142883"
      ]
     },
     "execution_count": 11,
     "metadata": {},
     "output_type": "execute_result"
    }
   ],
   "source": [
    "sigma_y_hat_2 = np.sum((y_e-y_m)**2)/(n-2)\n",
    "sigma_y_hat_2"
   ]
  },
  {
   "cell_type": "code",
   "execution_count": 12,
   "metadata": {},
   "outputs": [
    {
     "data": {
      "text/plain": [
       "0.14442002235542994"
      ]
     },
     "execution_count": 12,
     "metadata": {},
     "output_type": "execute_result"
    }
   ],
   "source": [
    "sigma_y_hat = np.sqrt(sigma_y_hat_2)\n",
    "sigma_y_hat"
   ]
  },
  {
   "cell_type": "code",
   "execution_count": 13,
   "metadata": {},
   "outputs": [
    {
     "data": {
      "text/plain": [
       "0.9973927130301823"
      ]
     },
     "execution_count": 13,
     "metadata": {},
     "output_type": "execute_result"
    }
   ],
   "source": [
    "rho_m = np.corrcoef(y_e, y_m)[0,1]\n",
    "rho_m"
   ]
  },
  {
   "cell_type": "code",
   "execution_count": 14,
   "metadata": {},
   "outputs": [
    {
     "data": {
      "text/plain": [
       "0.034522988495984515"
      ]
     },
     "execution_count": 14,
     "metadata": {},
     "output_type": "execute_result"
    }
   ],
   "source": [
    "sigma_alpha_2 = sigma_y_hat_2*n/(n*sum_x_e_2-sum_x_e*sum_y_e)\n",
    "sigma_alpha = np.sqrt(sigma_alpha_2)\n",
    "sigma_alpha"
   ]
  },
  {
   "cell_type": "code",
   "execution_count": 15,
   "metadata": {},
   "outputs": [
    {
     "data": {
      "text/plain": [
       "0.10452353834437114"
      ]
     },
     "execution_count": 15,
     "metadata": {},
     "output_type": "execute_result"
    }
   ],
   "source": [
    "sigma_beta_2 = sigma_y_hat_2*sum_x_e_2/(n*sum_x_e_2-sum_x_e*sum_y_e)\n",
    "sigma_beta = np.sqrt(sigma_beta_2)\n",
    "sigma_beta"
   ]
  },
  {
   "cell_type": "code",
   "execution_count": 16,
   "metadata": {},
   "outputs": [
    {
     "name": "stdout",
     "output_type": "stream",
     "text": [
      "0.8866219001948945 < alpha < 1.021949528376535\n"
     ]
    }
   ],
   "source": [
    "alpha_inf = scipy.stats.norm.ppf(0.025, loc = alpha, scale = sigma_alpha)\n",
    "alpha_sup = scipy.stats.norm.ppf(0.975, loc = alpha, scale = sigma_alpha)\n",
    "\n",
    "print(alpha_inf,'< alpha <', alpha_sup)"
   ]
  },
  {
   "cell_type": "code",
   "execution_count": 17,
   "metadata": {},
   "outputs": [
    {
     "name": "stdout",
     "output_type": "stream",
     "text": [
      "-0.09057665640594555 < beta < 0.31914808497737207\n"
     ]
    }
   ],
   "source": [
    "beta_inf = scipy.stats.norm.ppf(0.025, loc = beta, scale = sigma_beta)\n",
    "beta_sup = scipy.stats.norm.ppf(0.975, loc = beta, scale = sigma_beta)\n",
    "\n",
    "print(beta_inf,'< beta <', beta_sup)"
   ]
  },
  {
   "cell_type": "code",
   "execution_count": 18,
   "metadata": {},
   "outputs": [
    {
     "data": {
      "text/plain": [
       "-0.0029795918367346973"
      ]
     },
     "execution_count": 18,
     "metadata": {},
     "output_type": "execute_result"
    }
   ],
   "source": [
    "sigma_a_b_2 = sigma_y_hat_2*(-sum_x_e)/(n*sum_x_e_2-sum_x_e*sum_y_e)\n",
    "sigma_a_b_2"
   ]
  },
  {
   "cell_type": "code",
   "execution_count": 19,
   "metadata": {},
   "outputs": [
    {
     "data": {
      "text/plain": [
       "-0.8257228238447704"
      ]
     },
     "execution_count": 19,
     "metadata": {},
     "output_type": "execute_result"
    }
   ],
   "source": [
    "corr_a_b = sigma_a_b_2/(sigma_alpha*sigma_beta)\n",
    "corr_a_b"
   ]
  },
  {
   "cell_type": "code",
   "execution_count": 20,
   "metadata": {},
   "outputs": [
    {
     "name": "stdout",
     "output_type": "stream",
     "text": [
      "9.60452988472286\n"
     ]
    }
   ],
   "source": [
    "F_sup = scipy.stats.f.ppf(0.975,4,4)\n",
    "print(F_sup)"
   ]
  },
  {
   "cell_type": "code",
   "execution_count": 21,
   "metadata": {},
   "outputs": [
    {
     "name": "stdout",
     "output_type": "stream",
     "text": [
      "0.05714285714285714 -0.2857142857142857 -8.080720360913336\n"
     ]
    }
   ],
   "source": [
    "a = sigma_alpha_2/sigma_y_hat_2\n",
    "b = 2* sigma_a_b_2/sigma_y_hat_2\n",
    "c = (sigma_beta_2 + sigma_y_hat_2)/sigma_y_hat_2-F_sup\n",
    "\n",
    "print(a,b,c)"
   ]
  },
  {
   "cell_type": "code",
   "execution_count": 22,
   "metadata": {},
   "outputs": [
    {
     "data": {
      "text/plain": [
       "array([14.65165035, -9.65165035])"
      ]
     },
     "execution_count": 22,
     "metadata": {},
     "output_type": "execute_result"
    }
   ],
   "source": [
    "np.roots([a,b,c])"
   ]
  },
  {
   "cell_type": "code",
   "execution_count": 23,
   "metadata": {},
   "outputs": [
    {
     "data": {
      "text/plain": [
       "-0.0029795918367346973"
      ]
     },
     "execution_count": 23,
     "metadata": {},
     "output_type": "execute_result"
    }
   ],
   "source": [
    "sigma_a_b_2"
   ]
  },
  {
   "cell_type": "code",
   "execution_count": 24,
   "metadata": {},
   "outputs": [
    {
     "data": {
      "image/png": "[encoded data removed]",
      "text/plain": [
       "<Figure size 1080x576 with 1 Axes>"
      ]
     },
     "metadata": {
      "needs_background": "light"
     },
     "output_type": "display_data"
    }
   ],
   "source": [
    "fig, ax = plt.subplots(figsize = (15,8))\n",
    "\n",
    "x = np.linspace(-1,6,100)\n",
    "y = alpha*x+beta\n",
    "ax.plot(x,y, color='k')\n",
    "\n",
    "ax.errorbar(x_e, y_e, yerr = 2*sigma_y_hat, capsize = 10, ls='', marker = '.', color='k')\n",
    "#plt.plot(x_e, y_m, '-')\n",
    "ax.axis([-1,6,-1,6])\n",
    "ax.grid('on')\n",
    "\n",
    "sigma_y_hat_posteriori = lambda x: np.sqrt(sigma_alpha_2*x**2 - 2*sigma_a_b_2+ sigma_beta_2)\n",
    "\n",
    "ax.plot(x,y+2*sigma_y_hat_posteriori(x),'--', color='k')\n",
    "ax.plot(x,y-2*sigma_y_hat_posteriori(x),'--', color='k');"
   ]
  },
  {
   "cell_type": "code",
   "execution_count": null,
   "metadata": {},
   "outputs": [],
   "source": []
  }
 ],
 "metadata": {
  "kernelspec": {
   "display_name": "Python 3",
   "language": "python",
   "name": "python3"
  },
  "language_info": {
   "codemirror_mode": {
    "name": "ipython",
    "version": 3
   },
   "file_extension": ".py",
   "mimetype": "text/x-python",
   "name": "python",
   "nbconvert_exporter": "python",
   "pygments_lexer": "ipython3",
   "version": "3.6.8"
  }
 },
 "nbformat": 4,
 "nbformat_minor": 2
}
