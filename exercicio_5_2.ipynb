{
 "cells": [
  {
   "cell_type": "markdown",
   "metadata": {},
   "source": [
    "# Análise de Dados Experimentais - Vol 1\n",
    "\n",
    "## Fundamentos de Estatística e Estimação de Parâmetros\n",
    "\n",
    "### Márcio Schwaab e José Carlos Pinto\n",
    "\n",
    "### Cap 5: Estimação de Parâmetros\n",
    "\n",
    "### Exercício 5.2\n",
    "\n",
    "Afrânio\n",
    "\n",
    "[github.com/afraeq](github.com/afraeq)\n",
    "\n",
    "[afrjr.weebly.com](afrjr.weebly.com)"
   ]
  },
  {
   "cell_type": "code",
   "execution_count": 16,
   "metadata": {},
   "outputs": [],
   "source": [
    "import numpy as np\n",
    "import matplotlib.pyplot as plt\n",
    "import scipy.stats\n",
    "import scipy.optimize\n",
    "\n",
    "colorcycle = plt.rcParams['axes.prop_cycle'].by_key()['color']"
   ]
  },
  {
   "cell_type": "markdown",
   "metadata": {},
   "source": [
    "#### Dados experimentais"
   ]
  },
  {
   "cell_type": "code",
   "execution_count": 3,
   "metadata": {},
   "outputs": [
    {
     "data": {
      "text/plain": [
       "array([[ 1.  ,  1.66,  1.  ],\n",
       "       [ 2.  ,  6.07,  1.  ],\n",
       "       [ 3.  ,  7.55,  1.  ],\n",
       "       [ 5.  ,  9.72,  1.  ],\n",
       "       [10.  , 15.24,  1.  ],\n",
       "       [15.  , 18.79,  1.  ],\n",
       "       [20.  , 19.33,  1.  ],\n",
       "       [30.  , 22.38,  1.  ],\n",
       "       [40.  , 24.27,  1.  ],\n",
       "       [50.  , 25.51,  1.  ]])"
      ]
     },
     "execution_count": 3,
     "metadata": {},
     "output_type": "execute_result"
    }
   ],
   "source": [
    "xe = np.array([1, 2, 3, 5, 10, 15, 20, 30, 40, 50])\n",
    "ye = np.array([1.66, 6.07, 7.55, 9.72, 15.24, 18.79, 19.33, 22.38, 24.27, 25.51])\n",
    "\n",
    "NE = 10\n",
    "\n",
    "sigma2 = np.ones(NE)\n",
    "\n",
    "dados = np.array([xe, ye, sigma2]).T\n",
    "dados"
   ]
  },
  {
   "cell_type": "markdown",
   "metadata": {},
   "source": [
    "#### Modelos"
   ]
  },
  {
   "cell_type": "markdown",
   "metadata": {},
   "source": [
    "$$ y_1 = \\frac{\\alpha_1}{1+\\alpha_2 x}$$\n",
    "\n",
    "$$ y_2 = {\\alpha_1}x^{\\alpha_2}$$"
   ]
  },
  {
   "cell_type": "code",
   "execution_count": 26,
   "metadata": {},
   "outputs": [],
   "source": [
    "y1= lambda x, alpha: alpha[0]*x/(1+alpha[1]*x)\n",
    "y2= lambda x, alpha: alpha[0]*x**(alpha[1])"
   ]
  },
  {
   "cell_type": "markdown",
   "metadata": {},
   "source": [
    "#### Função objetivo"
   ]
  },
  {
   "cell_type": "markdown",
   "metadata": {},
   "source": [
    "$$F_{obj} = \\sum_{i=1}^{NE} \\frac{(y_i^e-y_i^m)^2}{\\sigma_i^2}$$"
   ]
  },
  {
   "cell_type": "code",
   "execution_count": 5,
   "metadata": {},
   "outputs": [],
   "source": [
    "F_obj1 = lambda alpha: np.sum((ye-y1(xe, alpha))**2/sigma2)\n",
    "F_obj2 = lambda alpha: np.sum((ye-y2(xe, alpha))**2/sigma2)"
   ]
  },
  {
   "cell_type": "markdown",
   "metadata": {},
   "source": [
    "#### Minimizando funções objetivo"
   ]
  },
  {
   "cell_type": "code",
   "execution_count": 31,
   "metadata": {},
   "outputs": [
    {
     "name": "stdout",
     "output_type": "stream",
     "text": [
      "[3.07849144 0.10246442] \n",
      " 3.9759743840912884 \n",
      "\n",
      "[5.04195321 0.43170202] \n",
      " 26.179045085992534 \n",
      "\n"
     ]
    }
   ],
   "source": [
    "x0_1 = [1, 1]\n",
    "x0_2 = [1, 1]\n",
    "\n",
    "result1 = scipy.optimize.minimize(F_obj1, x0_1)\n",
    "result2 = scipy.optimize.minimize(F_obj2, x0_2)\n",
    "\n",
    "alpha_opt1 = result1.x\n",
    "fopt1 = result1.fun\n",
    "\n",
    "alpha_opt2 = result2.x\n",
    "fopt2 = result2.fun\n",
    "\n",
    "print(alpha_opt1, '\\n', fopt1,'\\n')\n",
    "print(alpha_opt2, '\\n', fopt2,'\\n')"
   ]
  },
  {
   "cell_type": "markdown",
   "metadata": {},
   "source": [
    "#### Matriz de covariâncias dos parâmetros\n",
    "\n",
    "$$\\mathbf{V_{\\alpha}} = [\\mathbf{B^TV_y^{-1}B]^{-1}},$$\n",
    "\n",
    "sendo:\n",
    "\n",
    "* $\\mathbf{B} = \\displaystyle\\left[\\frac{\\partial \\mathbf{y_m}}{\\partial \\boldsymbol\\alpha}\\right]$, de dimensão NE $\\times$ NP, a matriz de sensitividades;\n",
    "* $\\mathbf{V_y}$ a matriz de covariâncias das medidas experimentais, que resulta diagonal sob a hipótese de erros independentes."
   ]
  },
  {
   "cell_type": "code",
   "execution_count": 34,
   "metadata": {},
   "outputs": [
    {
     "name": "stdout",
     "output_type": "stream",
     "text": [
      "[[0.07416189 0.00335628]\n",
      " [0.00335628 0.00015893]]\n",
      "[[ 0.15014864 -0.00869496]\n",
      " [-0.00869496  0.00053515]]\n"
     ]
    }
   ],
   "source": [
    "# número de parâmetros\n",
    "NP = 2\n",
    "\n",
    "# desvio para cálculo das derivadas numéricas em B\n",
    "dp = 1e-9\n",
    "\n",
    "# matriz de covariâncias dos erros experimentais\n",
    "Vy = np.diag(sigma2)\n",
    "\n",
    "# matriz de sensitividades\n",
    "B1 = np.zeros((NE, NP))\n",
    "B2 = np.zeros((NE, NP))\n",
    "for i in range(NP):\n",
    "    dev = np.zeros(NP)\n",
    "    dev[i] = dp\n",
    "    B1[:,i] = (y1(xe, alpha_opt1 + dev) - y1(xe, alpha_opt1 - dev))/(2*dp)\n",
    "    B2[:,i] = (y2(xe, alpha_opt2 + dev) - y2(xe, alpha_opt2 - dev))/(2*dp)\n",
    "    \n",
    "# matriz de covariâncias dos parâmetros\n",
    "V_alpha1 = np.linalg.inv(B1.T@np.linalg.inv(Vy)@B1)\n",
    "V_alpha2 = np.linalg.inv(B2.T@np.linalg.inv(Vy)@B2)\n",
    "\n",
    "print(V_alpha1)\n",
    "print(V_alpha2)"
   ]
  },
  {
   "cell_type": "markdown",
   "metadata": {},
   "source": [
    "#### Desvios-padrões dos parâmetros"
   ]
  },
  {
   "cell_type": "code",
   "execution_count": 35,
   "metadata": {},
   "outputs": [
    {
     "name": "stdout",
     "output_type": "stream",
     "text": [
      "[0.27232681 0.01260665]\n",
      "[0.38749018 0.02313322]\n"
     ]
    }
   ],
   "source": [
    "sigma_alpha1 = np.array([np.sqrt(V_alpha1[i,i]) for i in range(NP)])\n",
    "sigma_alpha2 = np.array([np.sqrt(V_alpha2[i,i]) for i in range(NP)])\n",
    "\n",
    "print(sigma_alpha1)\n",
    "print(sigma_alpha2)"
   ]
  },
  {
   "cell_type": "markdown",
   "metadata": {},
   "source": [
    "#### Coeficiente de correlação paramétrica"
   ]
  },
  {
   "cell_type": "code",
   "execution_count": 38,
   "metadata": {
    "scrolled": true
   },
   "outputs": [
    {
     "name": "stdout",
     "output_type": "stream",
     "text": [
      "0.9776155465048637\n",
      "-0.9699975350279657\n"
     ]
    }
   ],
   "source": [
    "rho_alpha1 = V_alpha1[0,1]/(sigma_alpha1[0]*sigma_alpha1[1])\n",
    "rho_alpha2 = V_alpha2[0,1]/(sigma_alpha2[0]*sigma_alpha2[1])\n",
    "\n",
    "print(rho_alpha1)\n",
    "print(rho_alpha2)"
   ]
  },
  {
   "cell_type": "markdown",
   "metadata": {},
   "source": [
    "#### Intervalo de confiança dos parâmetros"
   ]
  },
  {
   "cell_type": "code",
   "execution_count": 45,
   "metadata": {},
   "outputs": [
    {
     "name": "stdout",
     "output_type": "stream",
     "text": [
      "MODELO 1\n",
      "\n",
      "alpha_1 =  3.0784914361571265\n",
      "2.450504691938875 < alpha_1 < 3.706478180375378 \n",
      "\n",
      "alpha_2 =  0.10246441534187464\n",
      "0.07339343814967703 < alpha_2 < 0.13153539253407226 \n",
      " \n",
      "MODELO 2\n",
      "\n",
      "alpha_1 =  5.0419532057474665\n",
      "4.148399255631921 < alpha_1 < 5.935507155863012 \n",
      "\n",
      "alpha_2 =  0.10246441534187464\n",
      "0.3783567253868341 < alpha_2 < 0.48504731580990723\n"
     ]
    }
   ],
   "source": [
    "conf = [0.025, 0.975]\n",
    "\n",
    "alpha_bounds1 = [[scipy.stats.t.ppf(j, NE-NP, loc=alpha_opt1[i], scale=sigma_alpha1[i])\n",
    "                for i in range(NP)] for j in conf]\n",
    "\n",
    "\n",
    "alpha_bounds2 = [[scipy.stats.t.ppf(j, NE-NP, loc=alpha_opt2[i], scale=sigma_alpha2[i])\n",
    "                for i in range(NP)] for j in conf]\n",
    "\n",
    "print('MODELO 1\\n')\n",
    "\n",
    "print('alpha_1 = ',alpha_opt1[0])\n",
    "print(alpha_bounds1[0][0],'< alpha_1 <',alpha_bounds1[1][0],'\\n')\n",
    "\n",
    "print('alpha_2 = ',alpha_opt1[1])\n",
    "print(alpha_bounds1[0][1],'< alpha_2 <',alpha_bounds1[1][1],'\\n ')\n",
    "\n",
    "print('MODELO 2\\n')\n",
    "\n",
    "print('alpha_1 = ',alpha_opt2[0])\n",
    "print(alpha_bounds2[0][0],'< alpha_1 <',alpha_bounds2[1][0],'\\n')\n",
    "\n",
    "print('alpha_2 = ',alpha_opt1[1])\n",
    "print(alpha_bounds2[0][1],'< alpha_2 <',alpha_bounds2[1][1])"
   ]
  },
  {
   "cell_type": "markdown",
   "metadata": {},
   "source": [
    "#### Regiões de confiança dos parâmetros"
   ]
  },
  {
   "cell_type": "code",
   "execution_count": 93,
   "metadata": {},
   "outputs": [
    {
     "name": "stdout",
     "output_type": "stream",
     "text": [
      "CPU times: user 9.29 s, sys: 506 ms, total: 9.79 s\n",
      "Wall time: 9.36 s\n"
     ]
    },
    {
     "data": {
      "image/png": "[encoded data removed]",
      "text/plain": [
       "<Figure size 720x360 with 2 Axes>"
      ]
     },
     "metadata": {
      "needs_background": "light"
     },
     "output_type": "display_data"
    }
   ],
   "source": [
    "%%time\n",
    "\n",
    "fig, ax = plt.subplots(1,2, figsize = (10,5))\n",
    "\n",
    "conf = 0.95\n",
    "GL = (NP, NE-NP)\n",
    "\n",
    "Flim = scipy.stats.f.ppf(conf,*GL)\n",
    "\n",
    "Flim1 = fopt1*(1+(GL[0]/GL[1])*Flim)\n",
    "Flim2 = fopt2*(1+(GL[0]/GL[1])*Flim)\n",
    "\n",
    "# construindo regiões de confiança por meio de testes\n",
    "# na função objetivo no entorno da região ótima\n",
    "\n",
    "good1 = []\n",
    "good2 = []\n",
    "\n",
    "for xi in np.linspace(0,8,400):\n",
    "    for yi in np.linspace(0,0.15,400):\n",
    "        f = F_obj1(np.array([xi,yi]))\n",
    "        if f < Flim1:\n",
    "            good1+=[[xi,yi,1*f]]            \n",
    "            \n",
    "for xi in np.linspace(1,8,400):\n",
    "    for yi in np.linspace(0.1,0.8,400):\n",
    "        f = F_obj2(np.array([xi,yi]))\n",
    "        if f < Flim2:\n",
    "            good2+=[[xi,yi,1*f]]\n",
    "\n",
    "good1 = np.array(good1)\n",
    "good2 = np.array(good2)\n",
    "\n",
    "ax[0].scatter(good1[:,0],good1[:,1])\n",
    "ax[1].scatter(good2[:,0],good2[:,1])"
   ]
  },
  {
   "cell_type": "markdown",
   "metadata": {},
   "source": [
    "#### Verificação da qualidade do modelo"
   ]
  },
  {
   "cell_type": "code",
   "execution_count": 39,
   "metadata": {},
   "outputs": [
    {
     "name": "stdout",
     "output_type": "stream",
     "text": [
      "F_obj1 =  3.9759743840912884\n",
      "F_obj2 =  26.179045085992534\n",
      "2.1797307472526497 < Chi2 < 17.534546139484647\n"
     ]
    }
   ],
   "source": [
    "chi2_inf = scipy.stats.chi2.ppf(0.025, NE-NP)\n",
    "chi2_sup = scipy.stats.chi2.ppf(0.975, NE-NP)\n",
    "\n",
    "print('F_obj1 = ',fopt1)\n",
    "print('F_obj2 = ',fopt2)\n",
    "\n",
    "print(chi2_inf,'< Chi2 <', chi2_sup)"
   ]
  },
  {
   "cell_type": "code",
   "execution_count": 52,
   "metadata": {},
   "outputs": [
    {
     "name": "stdout",
     "output_type": "stream",
     "text": [
      "MODELO 1\n",
      "\n",
      "res_mean1 =  -0.01820119746340103\n",
      "-0.42998344501618924 < res_mean1 < 0.39358105008938704\n",
      "\n",
      "MODELO 2\n",
      "\n",
      "res_mean2 =  -0.1725532756264303\n",
      "-1.2235947876512043 < res_mean2 < 0.8784882363983435\n"
     ]
    }
   ],
   "source": [
    "ym1 = y1(xe, alpha_opt1)\n",
    "ym2 = y2(xe, alpha_opt2)\n",
    "\n",
    "res1 = ye - ym1\n",
    "res2 = ye - ym2\n",
    "\n",
    "res_mean1 = np.mean(res1)\n",
    "res_std1 = np.std(res1, ddof = 1)\n",
    "\n",
    "res_mean2 = np.mean(res2)\n",
    "res_std2 = np.std(res2, ddof = 1)\n",
    "\n",
    "conf = [0.025, 0.975]\n",
    "\n",
    "res_mean_bounds1 = [scipy.stats.norm.ppf(j, loc=res_mean1, scale=res_std1/np.sqrt(NE))\n",
    "                   for j in conf]\n",
    "\n",
    "res_mean_bounds2 = [scipy.stats.norm.ppf(j, loc=res_mean2, scale=res_std2/np.sqrt(NE))\n",
    "                   for j in conf]\n",
    "\n",
    "print('MODELO 1\\n')\n",
    "\n",
    "print('res_mean1 = ',res_mean1)\n",
    "print(res_mean_bounds1[0],'< res_mean1 <', res_mean_bounds1[1])\n",
    "\n",
    "print('\\nMODELO 2\\n')\n",
    "\n",
    "print('res_mean2 = ',res_mean2)\n",
    "print(res_mean_bounds2[0],'< res_mean2 <', res_mean_bounds2[1])"
   ]
  },
  {
   "cell_type": "code",
   "execution_count": 58,
   "metadata": {},
   "outputs": [
    {
     "data": {
      "image/png": "[encoded data removed]",
      "text/plain": [
       "<Figure size 720x144 with 2 Axes>"
      ]
     },
     "metadata": {
      "needs_background": "light"
     },
     "output_type": "display_data"
    }
   ],
   "source": [
    "fig, ax = plt.subplots(1,2, figsize = (10,2))\n",
    "\n",
    "ax[0].plot(xe, res1, '*')\n",
    "ax[1].plot(xe, res2, '*')\n",
    "\n",
    "ax[0].axhline(y=res_mean1)\n",
    "ax[1].axhline(y=res_mean2);"
   ]
  },
  {
   "cell_type": "code",
   "execution_count": null,
   "metadata": {},
   "outputs": [],
   "source": []
  }
 ],
 "metadata": {
  "kernelspec": {
   "display_name": "Python 3",
   "language": "python",
   "name": "python3"
  },
  "language_info": {
   "codemirror_mode": {
    "name": "ipython",
    "version": 3
   },
   "file_extension": ".py",
   "mimetype": "text/x-python",
   "name": "python",
   "nbconvert_exporter": "python",
   "pygments_lexer": "ipython3",
   "version": "3.6.8"
  }
 },
 "nbformat": 4,
 "nbformat_minor": 2
}
