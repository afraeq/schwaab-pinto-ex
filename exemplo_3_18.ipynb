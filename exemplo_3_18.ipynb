{
 "cells": [
  {
   "cell_type": "markdown",
   "metadata": {},
   "source": [
    "# Análise de Dados Experimentais - Vol 1\n",
    "\n",
    "## Fundamentos de Estatística e Estimação de Parâmetros\n",
    "\n",
    "### Márcio Schwaab e José Carlos Pinto\n",
    "\n",
    "### Cap 3: O Problema Amostral\n",
    "\n",
    "### Exemplo 3.18\n",
    "\n",
    "[afrjr.weebly.com](afrjr.weebly.com)"
   ]
  },
  {
   "cell_type": "code",
   "execution_count": 1,
   "metadata": {},
   "outputs": [],
   "source": [
    "import numpy as np\n",
    "import matplotlib.pyplot as plt\n",
    "import scipy.stats\n",
    "\n",
    "colorcycle = plt.rcParams['axes.prop_cycle'].by_key()['color']"
   ]
  },
  {
   "cell_type": "code",
   "execution_count": 2,
   "metadata": {},
   "outputs": [],
   "source": [
    "x = np.array([[76.48, 76.43, 77.20, 76.25, 76.48, 76.48, 76.6],\n",
    "              [77.10, 78.4, 77.2, 76.2, 77.7, 76.8, np.nan]]).T\n",
    "\n",
    "X_bar = np.nanmean(x, axis = 0)\n",
    "var = np.nanvar(x, ddof = 1, axis = 0)\n",
    "sd = np.sqrt(var)\n",
    "\n",
    "n = [sum(~np.isnan(x[:,i])) for i in range(x.shape[1])]"
   ]
  },
  {
   "cell_type": "code",
   "execution_count": 3,
   "metadata": {},
   "outputs": [
    {
     "name": "stdout",
     "output_type": "stream",
     "text": [
      "X_bar1 =  76.56000000000002\n",
      "76.28167418093118 < Mu_x1 < 76.83832581906886 \n",
      "\n",
      "X_bar2 =  77.23333333333333\n",
      "76.44056359810851 < Mu_x2 < 78.02610306855816\n"
     ]
    }
   ],
   "source": [
    "muX_inf = [scipy.stats.t.ppf(0.025, n[i]-1, loc = X_bar[i], scale = sd[i]/np.sqrt(n[i])) for i in range(x.shape[1])]\n",
    "muX_sup = [scipy.stats.t.ppf(0.975, n[i]-1, loc = X_bar[i], scale = sd[i]/np.sqrt(n[i])) for i in range(x.shape[1])]\n",
    "\n",
    "print('X_bar1 = ',X_bar[0])\n",
    "print(muX_inf[0],'< Mu_x1 <', muX_sup[0],'\\n')\n",
    "print('X_bar2 = ',X_bar[1])\n",
    "print(muX_inf[1],'< Mu_x2 <', muX_sup[1])"
   ]
  },
  {
   "cell_type": "code",
   "execution_count": 4,
   "metadata": {},
   "outputs": [
    {
     "name": "stdout",
     "output_type": "stream",
     "text": [
      "var1 =  0.09056666666666657\n",
      "0.03760716206650842 < Chi2 < 0.43916638546496795 \n",
      "\n",
      "var2 =  0.5706666666666693\n",
      "0.22235206623468928 < Chi2 < 3.4327399750402203\n"
     ]
    }
   ],
   "source": [
    "sx2_sup = [1/scipy.stats.chi2.ppf(0.025, n[i]-1, scale = (1/((n[i]-1)*var[i]))) for i in range(x.shape[1])]\n",
    "sx2_inf = [1/scipy.stats.chi2.ppf(0.975, n[i]-1, scale = (1/((n[i]-1)*var[i]))) for i in range(x.shape[1])]\n",
    "\n",
    "print('var1 = ', var[0])\n",
    "print(sx2_inf[0],'< Chi2 <', sx2_sup[0],'\\n')\n",
    "\n",
    "print('var2 = ', var[1])\n",
    "print(sx2_inf[1],'< Chi2 <', sx2_sup[1])"
   ]
  },
  {
   "cell_type": "code",
   "execution_count": 5,
   "metadata": {},
   "outputs": [
    {
     "name": "stdout",
     "output_type": "stream",
     "text": [
      "F =  0.15870327102803647\n",
      "0.16701279718024772 < F < 6.977701858535566\n"
     ]
    }
   ],
   "source": [
    "F_inf = scipy.stats.f.ppf(0.025,n[0]-1,n[1]-1)\n",
    "F_sup = scipy.stats.f.ppf(0.975,n[0]-1,n[1]-1)\n",
    "\n",
    "print('F = ',var[0]/var[1])\n",
    "print(F_inf,'< F <', F_sup)"
   ]
  }
 ],
 "metadata": {
  "kernelspec": {
   "display_name": "Python 3",
   "language": "python",
   "name": "python3"
  },
  "language_info": {
   "codemirror_mode": {
    "name": "ipython",
    "version": 3
   },
   "file_extension": ".py",
   "mimetype": "text/x-python",
   "name": "python",
   "nbconvert_exporter": "python",
   "pygments_lexer": "ipython3",
   "version": "3.6.8"
  }
 },
 "nbformat": 4,
 "nbformat_minor": 2
}
