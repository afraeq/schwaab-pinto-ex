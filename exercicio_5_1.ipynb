{
 "cells": [
  {
   "cell_type": "markdown",
   "metadata": {},
   "source": [
    "# Análise de Dados Experimentais - Vol 1\n",
    "\n",
    "## Fundamentos de Estatística e Estimação de Parâmetros\n",
    "\n",
    "### Márcio Schwaab e José Carlos Pinto\n",
    "\n",
    "### Cap 5: Estimação de Parâmetros\n",
    "\n",
    "### Exercício 5.1\n",
    "\n",
    "Afrânio\n",
    "\n",
    "[github.com/afraeq](github.com/afraeq)\n",
    "\n",
    "[afrjr.weebly.com](afrjr.weebly.com)"
   ]
  },
  {
   "cell_type": "code",
   "execution_count": 1,
   "metadata": {},
   "outputs": [],
   "source": [
    "import numpy as np\n",
    "import matplotlib.pyplot as plt\n",
    "import scipy.stats\n",
    "from pyswarm import pso\n",
    "\n",
    "colorcycle = plt.rcParams['axes.prop_cycle'].by_key()['color']"
   ]
  },
  {
   "cell_type": "markdown",
   "metadata": {},
   "source": [
    "#### Dados experimentais"
   ]
  },
  {
   "cell_type": "code",
   "execution_count": 2,
   "metadata": {},
   "outputs": [
    {
     "data": {
      "text/plain": [
       "array([[5.000e-01, 7.920e+00, 2.500e+01],\n",
       "       [1.000e+00, 1.851e+01, 2.500e+01],\n",
       "       [1.500e+00, 2.009e+01, 9.000e+00],\n",
       "       [2.000e+00, 1.897e+01, 9.000e+00],\n",
       "       [3.000e+00, 2.667e+01, 1.000e+00],\n",
       "       [4.000e+00, 2.945e+01, 1.000e+00],\n",
       "       [5.000e+00, 3.258e+01, 2.500e-01],\n",
       "       [7.000e+00, 3.454e+01, 2.500e-01],\n",
       "       [1.000e+01, 3.462e+01, 1.000e-02]])"
      ]
     },
     "execution_count": 2,
     "metadata": {},
     "output_type": "execute_result"
    }
   ],
   "source": [
    "xe = np.array([0.5, 1.0, 1.5, 2.0, 3.0, 4.0, 5.0, 7.0, 10.0])\n",
    "ye = np.array([7.92, 18.51, 20.09, 18.97, 26.67, 29.45, 32.58, 34.54, 34.62])\n",
    "\n",
    "sigma2 = np.array([25, 25, 9, 9, 1, 1, 0.25, 0.25, 0.01])\n",
    "\n",
    "dados = np.array([xe, ye, sigma2]).T\n",
    "\n",
    "NE = dados.shape[0] # Número de Experimentos\n",
    "\n",
    "dados"
   ]
  },
  {
   "cell_type": "markdown",
   "metadata": {},
   "source": [
    "#### Modelo"
   ]
  },
  {
   "cell_type": "markdown",
   "metadata": {},
   "source": [
    "$$ y = \\alpha_1(1-\\exp(-\\alpha_2x))$$"
   ]
  },
  {
   "cell_type": "code",
   "execution_count": 3,
   "metadata": {},
   "outputs": [],
   "source": [
    "y = lambda x, alpha: alpha[0]*(1-np.exp(-alpha[1]*x))"
   ]
  },
  {
   "cell_type": "markdown",
   "metadata": {},
   "source": [
    "#### Função objetivo"
   ]
  },
  {
   "cell_type": "markdown",
   "metadata": {},
   "source": [
    "$$F_{obj} = \\sum_{i=1}^{NE} \\frac{(y_i^e-y_i^m)^2}{\\sigma_i^2}$$"
   ]
  },
  {
   "cell_type": "code",
   "execution_count": 4,
   "metadata": {},
   "outputs": [],
   "source": [
    "F_obj = lambda alpha: np.sum((ye-y(xe, alpha))**2/sigma2)"
   ]
  },
  {
   "cell_type": "markdown",
   "metadata": {},
   "source": [
    "#### Minimizando função objetivo com o Enxame"
   ]
  },
  {
   "cell_type": "code",
   "execution_count": 5,
   "metadata": {},
   "outputs": [
    {
     "name": "stdout",
     "output_type": "stream",
     "text": [
      "Stopping search: Swarm best objective change less than 1e-08\n",
      "[34.8527252  0.5128325] \n",
      " 6.075445407266264\n"
     ]
    }
   ],
   "source": [
    "lb = [0, 0]\n",
    "ub = [50, 1]\n",
    "\n",
    "alpha_opt, fopt = pso(F_obj, lb, ub)\n",
    "print(alpha_opt, '\\n', fopt)"
   ]
  },
  {
   "cell_type": "markdown",
   "metadata": {},
   "source": [
    "#### Matriz de covariâncias dos parâmetros\n",
    "\n",
    "$$\\mathbf{V_{\\alpha}} = [\\mathbf{B^TV_y^{-1}B]^{-1}},$$\n",
    "\n",
    "sendo:\n",
    "\n",
    "* $\\mathbf{B} = \\displaystyle\\left[\\frac{\\partial \\mathbf{y_m}}{\\partial \\boldsymbol\\alpha}\\right]$, de dimensão NE $\\times$ NP, a matriz de sensitividades;\n",
    "* $\\mathbf{V_y}$ a matriz de covariâncias das medidas experimentais, que resulta diagonal sob a hipótese de erros independentes."
   ]
  },
  {
   "cell_type": "code",
   "execution_count": 6,
   "metadata": {},
   "outputs": [
    {
     "data": {
      "text/plain": [
       "array([[ 0.01568773, -0.00215721],\n",
       "       [-0.00215721,  0.00072908]])"
      ]
     },
     "execution_count": 6,
     "metadata": {},
     "output_type": "execute_result"
    }
   ],
   "source": [
    "# número de parâmetros\n",
    "NP = 2\n",
    "\n",
    "# desvio para cálculo das derivadas numéricas em B\n",
    "dp = 1e-9\n",
    "\n",
    "# matriz de covariâncias dos erros experimentais\n",
    "Vy = np.diag(sigma2)\n",
    "\n",
    "# matriz de sensitividades\n",
    "B = np.zeros((NE, NP))\n",
    "for i in range(NP):\n",
    "    dev = np.zeros(NP)\n",
    "    dev[i] = dp\n",
    "    B[:,i] = (y(xe, alpha_opt + dev) - y(xe, alpha_opt - dev))/(2*dp)\n",
    "    \n",
    "# matriz de covariâncias dos parâmetros\n",
    "V_alpha = np.linalg.inv(B.T@np.linalg.inv(Vy)@B)\n",
    "V_alpha"
   ]
  },
  {
   "cell_type": "markdown",
   "metadata": {},
   "source": [
    "#### Desvios-padrões dos parâmetros"
   ]
  },
  {
   "cell_type": "code",
   "execution_count": 7,
   "metadata": {},
   "outputs": [
    {
     "data": {
      "text/plain": [
       "array([0.12525068, 0.02700148])"
      ]
     },
     "execution_count": 7,
     "metadata": {},
     "output_type": "execute_result"
    }
   ],
   "source": [
    "sigma_alpha = np.array([np.sqrt(V_alpha[i,i]) for i in range(NP)])\n",
    "sigma_alpha"
   ]
  },
  {
   "cell_type": "markdown",
   "metadata": {},
   "source": [
    "#### Coeficiente de correlação paramétrica"
   ]
  },
  {
   "cell_type": "code",
   "execution_count": 8,
   "metadata": {
    "scrolled": true
   },
   "outputs": [
    {
     "data": {
      "text/plain": [
       "-0.6378605151162926"
      ]
     },
     "execution_count": 8,
     "metadata": {},
     "output_type": "execute_result"
    }
   ],
   "source": [
    "rho_alpha = V_alpha[0,1]/(sigma_alpha[0]*sigma_alpha[1])\n",
    "rho_alpha"
   ]
  },
  {
   "cell_type": "markdown",
   "metadata": {},
   "source": [
    "#### Intervalo de confiança dos parâmetros"
   ]
  },
  {
   "cell_type": "markdown",
   "metadata": {},
   "source": [
    "Considerando que os erros paramétricos seguem a distribuição normal:"
   ]
  },
  {
   "cell_type": "code",
   "execution_count": 30,
   "metadata": {},
   "outputs": [
    {
     "name": "stdout",
     "output_type": "stream",
     "text": [
      "alpha_1 =  34.852725197547144\n",
      "34.607238369320946 < alpha_1 < 35.09821202577334 \n",
      "\n",
      "alpha_2 =  0.5128325039716091\n",
      "0.45991057331943347 < alpha_2 < 0.5657544346237847\n"
     ]
    }
   ],
   "source": [
    "conf = [0.025, 0.975]\n",
    "\n",
    "alpha_bounds = [[scipy.stats.norm.ppf(j, loc=alpha_opt[i], scale=sigma_alpha[i])\n",
    "                for i in range(NP)] for j in conf]\n",
    "\n",
    "print('alpha_1 = ',alpha_opt[0])\n",
    "print(alpha_bounds[0][0],'< alpha_1 <',alpha_bounds[1][0],'\\n')\n",
    "\n",
    "print('alpha_2 = ',alpha_opt[1])\n",
    "print(alpha_bounds[0][1],'< alpha_2 <',alpha_bounds[1][1])"
   ]
  },
  {
   "cell_type": "markdown",
   "metadata": {},
   "source": [
    "#### Verificação da qualidade do modelo"
   ]
  },
  {
   "cell_type": "code",
   "execution_count": 10,
   "metadata": {},
   "outputs": [
    {
     "name": "stdout",
     "output_type": "stream",
     "text": [
      "F_obj =  6.075445407266264\n",
      "1.689869180677355 < Chi2 < 16.012764274629326\n"
     ]
    }
   ],
   "source": [
    "chi2_inf = scipy.stats.chi2.ppf(0.025, NE-NP)\n",
    "chi2_sup = scipy.stats.chi2.ppf(0.975, NE-NP)\n",
    "\n",
    "print('F_obj = ',fopt)\n",
    "print(chi2_inf,'< Chi2 <', chi2_sup)"
   ]
  },
  {
   "cell_type": "code",
   "execution_count": 29,
   "metadata": {},
   "outputs": [
    {
     "name": "stdout",
     "output_type": "stream",
     "text": [
      "res_mean =  0.21961259479161044\n",
      "-1.1542863644836272 < res_mean < 1.5935115540668479\n"
     ]
    }
   ],
   "source": [
    "ym = y(xe, alpha_opt)\n",
    "\n",
    "res = ye - ym\n",
    "\n",
    "res_mean = np.mean(res)\n",
    "res_std = np.std(res, ddof = 1)\n",
    "\n",
    "conf = [0.025, 0.975]\n",
    "\n",
    "res_mean_bounds = [scipy.stats.norm.ppf(j, loc=res_mean, scale=res_std/np.sqrt(NE))\n",
    "                   for j in conf]\n",
    "\n",
    "print('res_mean = ',res_mean)\n",
    "print(res_mean_bounds[0],'< res_mean <', res_mean_bounds[1])"
   ]
  }
 ],
 "metadata": {
  "kernelspec": {
   "display_name": "Python 3",
   "language": "python",
   "name": "python3"
  },
  "language_info": {
   "codemirror_mode": {
    "name": "ipython",
    "version": 3
   },
   "file_extension": ".py",
   "mimetype": "text/x-python",
   "name": "python",
   "nbconvert_exporter": "python",
   "pygments_lexer": "ipython3",
   "version": "3.6.8"
  }
 },
 "nbformat": 4,
 "nbformat_minor": 2
}
